{
 "cells": [
  {
   "cell_type": "code",
   "execution_count": null,
   "metadata": {},
   "outputs": [
    {
     "name": "stdout",
     "output_type": "stream",
     "text": [
      "2.2.3\n"
     ]
    }
   ],
   "source": [
    "import pandas as pd"
   ]
  },
  {
   "cell_type": "code",
   "execution_count": 13,
   "metadata": {},
   "outputs": [
    {
     "name": "stdout",
     "output_type": "stream",
     "text": [
      "        Continent        Country       City                     Stadium  \\\n",
      "0   North America  United States   Glendale          State Farm Stadium   \n",
      "1   North America  United States   Glendale          State Farm Stadium   \n",
      "2   North America  United States  Las Vegas           Allegiant Stadium   \n",
      "3   North America  United States  Las Vegas           Allegiant Stadium   \n",
      "4   North America  United States  Arlington                 AT&T Stadiu   \n",
      "..            ...            ...        ...                         ...   \n",
      "78           Asia      Singapore  Singapore  Singapore National Stadium   \n",
      "79           Asia      Singapore  Singapore  Singapore National Stadium   \n",
      "80           Asia      Singapore  Singapore  Singapore National Stadium   \n",
      "81           Asia      Singapore  Singapore  Singapore National Stadium   \n",
      "82           Asia      Singapore  Singapore  Singapore National Stadium   \n",
      "\n",
      "         Date  Night          Support 1 Support 2                   SS - G1  \\\n",
      "0  2023-03-17      1           Paramore     Gayle                mirrorball   \n",
      "1  2023-03-18      2           Paramore     Gayle         this is me trying   \n",
      "2  2023-03-24      1        Beabadoobee     Gayle                  Our Song   \n",
      "3  2023-03-25      2        Beabadoobee     Gayle            cowboy like me   \n",
      "4  2023-03-31      1               Muna     Gayle      Sad Beautiful Tragic   \n",
      "..        ...    ...                ...       ...                       ...   \n",
      "78 2024-03-03      2  Sabrina Carpenter       NaN          long story short   \n",
      "79 2024-03-04      3  Sabrina Carpenter       NaN               Foolish One   \n",
      "80 2024-03-07      4  Sabrina Carpenter       NaN  Death by a Thousand Cuts   \n",
      "81 2024-03-08      5  Sabrina Carpenter       NaN                Sparks Fly   \n",
      "82 2024-03-09      6  Sabrina Carpenter       NaN                Tim McGraw   \n",
      "\n",
      "        Album G1  ... Speak Now dress       Red shirt folklore dress  \\\n",
      "0       folklore  ...       Champagne  A Lot Going On         Purple   \n",
      "1       folklore  ...            Pink              Ew          Cream   \n",
      "2   Taylor Swift  ...       Champagne  A Lot Going On           Pink   \n",
      "3       evermore  ...            Pink              Ew         Purple   \n",
      "4            Red  ...       Champagne       Like Ever          Cream   \n",
      "..           ...  ...             ...             ...            ...   \n",
      "78      evermore  ...       Champagne  A Lot Going On           Pink   \n",
      "79     Speak Now  ...            Pink       Like Ever           Blue   \n",
      "80         Lover  ...       Champagne       Like Ever          Cream   \n",
      "81     Speak Now  ...            Pink  A Lot Going On           Pink   \n",
      "82  Taylor Swift  ...          Purple              Ew          Cream   \n",
      "\n",
      "   1989 outfit SS dress Midnights shirt dress Midnights bodysuit Karma jacket  \\\n",
      "0         Pink      Red                Silver          Dark Blue   Multicolor   \n",
      "1        Green    Green           Bright Blue          Dark Blue      Magenta   \n",
      "2         Pink      Red                Silver           Scallops   Multicolor   \n",
      "3        Green    Green           Bright Blue          Dark Blue         Pink   \n",
      "4        Green    Green          Light Purple           Scallops   Multicolor   \n",
      "..         ...      ...                   ...                ...          ...   \n",
      "78       Green    Green           Bright Blue            Cutouts   Multicolor   \n",
      "79        Pink      Red            Iridescent            Cutouts         Blue   \n",
      "80        Pink      Red           Bright Blue            Cutouts   Multicolor   \n",
      "81      Orange   Yellow            Iridescent            Cutouts      Magenta   \n",
      "82        Blue     Blue           Dark Purple            Cutouts         Blue   \n",
      "\n",
      "    Unnamed: 35  Unnamed: 36  \n",
      "0           NaN          NaN  \n",
      "1           NaN          NaN  \n",
      "2           NaN          NaN  \n",
      "3           NaN          NaN  \n",
      "4           NaN          NaN  \n",
      "..          ...          ...  \n",
      "78          NaN          NaN  \n",
      "79          NaN          NaN  \n",
      "80          NaN          NaN  \n",
      "81          NaN          NaN  \n",
      "82          NaN          NaN  \n",
      "\n",
      "[83 rows x 37 columns]\n"
     ]
    },
    {
     "name": "stderr",
     "output_type": "stream",
     "text": [
      "C:\\Users\\gosia\\AppData\\Local\\Packages\\PythonSoftwareFoundation.Python.3.11_qbz5n2kfra8p0\\LocalCache\\local-packages\\Python311\\site-packages\\openpyxl\\worksheet\\_reader.py:329: UserWarning: Conditional Formatting extension is not supported and will be removed\n",
      "  warn(msg)\n"
     ]
    }
   ],
   "source": [
    "data1 = pd.read_excel(\"data.xlsx\", sheet_name=1)\n",
    "print(data1)"
   ]
  },
  {
   "cell_type": "code",
   "execution_count": 17,
   "metadata": {},
   "outputs": [
    {
     "name": "stdout",
     "output_type": "stream",
     "text": [
      "       Continent        Country       City             Stadium       Date  \\\n",
      "0  North America  United States   Glendale  State Farm Stadium 2023-03-17   \n",
      "1  North America  United States   Glendale  State Farm Stadium 2023-03-18   \n",
      "2  North America  United States  Las Vegas   Allegiant Stadium 2023-03-24   \n",
      "3  North America  United States  Las Vegas   Allegiant Stadium 2023-03-25   \n",
      "4  North America  United States  Arlington         AT&T Stadiu 2023-03-31   \n",
      "\n",
      "   Night    Support 1 Support 2               SS - G1      Album G1  ...  \\\n",
      "0      1     Paramore     Gayle            mirrorball      folklore  ...   \n",
      "1      2     Paramore     Gayle     this is me trying      folklore  ...   \n",
      "2      1  Beabadoobee     Gayle              Our Song  Taylor Swift  ...   \n",
      "3      2  Beabadoobee     Gayle        cowboy like me      evermore  ...   \n",
      "4      1         Muna     Gayle  Sad Beautiful Tragic           Red  ...   \n",
      "\n",
      "  Speak Now dress       Red shirt folklore dress 1989 outfit SS dress  \\\n",
      "0       Champagne  A Lot Going On         Purple        Pink      Red   \n",
      "1            Pink              Ew          Cream       Green    Green   \n",
      "2       Champagne  A Lot Going On           Pink        Pink      Red   \n",
      "3            Pink              Ew         Purple       Green    Green   \n",
      "4       Champagne       Like Ever          Cream       Green    Green   \n",
      "\n",
      "  Midnights shirt dress Midnights bodysuit Karma jacket  Unnamed: 35  \\\n",
      "0                Silver          Dark Blue   Multicolor          NaN   \n",
      "1           Bright Blue          Dark Blue      Magenta          NaN   \n",
      "2                Silver           Scallops   Multicolor          NaN   \n",
      "3           Bright Blue          Dark Blue         Pink          NaN   \n",
      "4          Light Purple           Scallops   Multicolor          NaN   \n",
      "\n",
      "   Unnamed: 36  \n",
      "0          NaN  \n",
      "1          NaN  \n",
      "2          NaN  \n",
      "3          NaN  \n",
      "4          NaN  \n",
      "\n",
      "[5 rows x 37 columns]\n"
     ]
    }
   ],
   "source": [
    "df1 = pd.DataFrame(data1)\n",
    "print(df1.head())"
   ]
  },
  {
   "cell_type": "code",
   "execution_count": 19,
   "metadata": {},
   "outputs": [
    {
     "name": "stdout",
     "output_type": "stream",
     "text": [
      "Index(['Continent', 'Country', 'City', 'Stadium', 'Date', 'Night', 'Support 1',\n",
      "       'Support 2', 'SS - G1', 'Album G1', 'SS - G2', 'Album G2', 'SS - G3',\n",
      "       'Album G3', 'SS - P1', 'Album P1', 'SS - P2', 'Album P2', 'SS - P3',\n",
      "       'Album P3', 'Special guest', 'Lover bodysuit', 'Lover jacket',\n",
      "       'Lover guitar', 'Fearless dress', 'evermore dress', 'reputation outfit',\n",
      "       'Speak Now dress', 'Red shirt', 'folklore dress', '1989 outfit',\n",
      "       'SS dress', 'Midnights shirt dress', 'Midnights bodysuit',\n",
      "       'Karma jacket', 'Unnamed: 35', 'Unnamed: 36'],\n",
      "      dtype='object')\n"
     ]
    }
   ],
   "source": [
    "print(df1.columns)"
   ]
  },
  {
   "cell_type": "code",
   "execution_count": 20,
   "metadata": {},
   "outputs": [
    {
     "name": "stdout",
     "output_type": "stream",
     "text": [
      "  Lover bodysuit Lover jacket Lover guitar Fearless dress evermore dress  \\\n",
      "0  Pink and Blue       Silver         Pink     Short Gold         Yellow   \n",
      "1  Gold and Blue        Black         Blue      Long Gold         Yellow   \n",
      "2  Pink and Blue       Silver         Pink     Short Gold         Yellow   \n",
      "3  Gold and Blue        Black         Pink      Long Gold         Yellow   \n",
      "4  Gold and Blue        Black         Blue      Long Gold         Yellow   \n",
      "\n",
      "  reputation outfit Speak Now dress       Red shirt folklore dress  \\\n",
      "0     Red and Black       Champagne  A Lot Going On         Purple   \n",
      "1     Red and Black            Pink              Ew          Cream   \n",
      "2     Red and Black       Champagne  A Lot Going On           Pink   \n",
      "3     Red and Black            Pink              Ew         Purple   \n",
      "4     Red and Black       Champagne       Like Ever          Cream   \n",
      "\n",
      "  1989 outfit SS dress Midnights shirt dress Midnights bodysuit Karma jacket  \n",
      "0        Pink      Red                Silver          Dark Blue   Multicolor  \n",
      "1       Green    Green           Bright Blue          Dark Blue      Magenta  \n",
      "2        Pink      Red                Silver           Scallops   Multicolor  \n",
      "3       Green    Green           Bright Blue          Dark Blue         Pink  \n",
      "4       Green    Green          Light Purple           Scallops   Multicolor  \n"
     ]
    }
   ],
   "source": [
    "outfits_columns = ['Lover bodysuit', 'Lover jacket', 'Lover guitar', 'Fearless dress', 'evermore dress', \n",
    "                   'reputation outfit', 'Speak Now dress', 'Red shirt', 'folklore dress', '1989 outfit',\n",
    "                   'SS dress', 'Midnights shirt dress', 'Midnights bodysuit', 'Karma jacket']\n",
    "\n",
    "outfits1 = df1[outfits_columns]\n",
    "\n",
    "print(outfits1.head())"
   ]
  }
 ],
 "metadata": {
  "kernelspec": {
   "display_name": "Python 3",
   "language": "python",
   "name": "python3"
  },
  "language_info": {
   "codemirror_mode": {
    "name": "ipython",
    "version": 3
   },
   "file_extension": ".py",
   "mimetype": "text/x-python",
   "name": "python",
   "nbconvert_exporter": "python",
   "pygments_lexer": "ipython3",
   "version": "3.11.9"
  }
 },
 "nbformat": 4,
 "nbformat_minor": 2
}
